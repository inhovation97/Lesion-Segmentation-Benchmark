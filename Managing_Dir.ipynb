{
 "cells": [
  {
   "cell_type": "markdown",
   "id": "39f979c5",
   "metadata": {},
   "source": [
    "# 경로 관리 함수"
   ]
  },
  {
   "cell_type": "code",
   "execution_count": null,
   "id": "f406ac4e",
   "metadata": {},
   "outputs": [],
   "source": [
    "import random\n",
    "\n",
    "def rename_files(length, folder_path):\n",
    "    sampling_ratio = int(length*0.8)\n",
    "    sampling_trainset = random.sample( range(0, length), sampling_ratio )\n",
    "\n",
    "    for n in range(0, length):\n",
    "\n",
    "        if n not in sampling_trainset:\n",
    "            os.rename(images[n], folder_path+f'/validationset/images/image_{n}.jpg')\n",
    "            os.rename(labels[n], folder_path+f'/validationset/labels/label_{n}.jpg')\n",
    "        else:\n",
    "            os.rename(images[n], folder_path+f'/trainset/images/image_{n}.jpg')\n",
    "            os.rename(labels[n], folder_path+f'/trainset/labels/label_{n}.jpg')\n",
    "    return print('완료')\n",
    "\n",
    "def jpg_converter(folder_lst, filename_extension):\n",
    "    for file in folder_lst:\n",
    "        file_name = file.split(filename_extension)[0]\n",
    "        os.rename(file, file_name+'jpg')\n",
    "\n",
    "    return print('완료')\n",
    "\n",
    "# 아래 두개 같이 쓰임\n",
    "def make_dataset_BreastCancer(data_path, save_train_image_path, save_train_label_path, save_valid_image_path, save_valid_label_path):\n",
    "    idx_list=[]\n",
    "    for file in data_path:\n",
    "        if file.find('.jpg') == -1:\n",
    "                continue\n",
    "        file_idx = file.split('(')[-1].split(')')[0]\n",
    "        if file_idx not in idx_list:\n",
    "            idx_list.append(file_idx)\n",
    "            \n",
    "    train_idx_list = random.sample(idx_list, int(0.8*len(idx_list)))\n",
    "    valid_idx_list = [idx for idx in idx_list if idx not in train_idx_list]\n",
    "    \n",
    "    make_dataset_BreastCancer2(train_idx_list, data_path, save_train_image_path, save_train_label_path)\n",
    "    make_dataset_BreastCancer2(valid_idx_list, data_path, save_valid_image_path, save_valid_label_path)\n",
    "    \n",
    "def make_dataset_BreastCancer2(idx_list, data_path, save_image_path, save_label_path):\n",
    "    for idx in idx_list:\n",
    "        mask_files=[]\n",
    "        for file in data_path:\n",
    "            if file.find('.jpg') == -1:\n",
    "                continue\n",
    "            file_idx = file.split('(')[-1].split(')')[0]\n",
    "\n",
    "            if idx == file_idx:\n",
    "                if file.find('mask') != -1:\n",
    "                    mask_files.append(file)\n",
    "                else:\n",
    "                    img = cv2.imread(file)\n",
    "                    cv2.imwrite(save_image_path+f'image_{idx}.jpg', img)\n",
    "\n",
    "        img = cv2.imread(sorted(mask_files)[-1]) # 마지막 라벨 파일 ex : benign (423)_mask3.jpg\n",
    "        cv2.imwrite(save_label_path+f'label_{idx}.jpg', img)\n",
    "        \n",
    "    print(\"원본 경로의 파일 개수 : {}\\\n",
    "          \\n 완료된 이미지 파일 개수 : {}\\\n",
    "          \\n 완료된 라벨 파일 개수 : {}\".format(len(data_path), len(glob.glob(save_image_path+'*')),len(save_label_path+'*')))"
   ]
  },
  {
   "cell_type": "markdown",
   "id": "a593949f",
   "metadata": {},
   "source": [
    "# testset 생성 함수"
   ]
  },
  {
   "cell_type": "code",
   "execution_count": 2,
   "id": "f560ce05",
   "metadata": {},
   "outputs": [],
   "source": [
    "import os\n",
    "import glob\n",
    "import random\n",
    "\n",
    "def make_testset(dataset_path, word=None):\n",
    "    if word == None:\n",
    "        word = ''\n",
    "    \n",
    "    trainset_image_paths = glob.glob(dataset_path + f'/trainset{word}/images/*') \n",
    "    trainset_label_paths = glob.glob(dataset_path + f'/trainset{word}/labels/*')\n",
    "    trainset_image_paths = sorted(trainset_image_paths) \n",
    "    trainset_label_paths = sorted(trainset_label_paths) \n",
    "\n",
    "    sampling_length = len(glob.glob(dataset_path + f'/validationset{word}/labels/*'))\n",
    "    testset_idx = random.sample( range(0, len(trainset_image_paths)), sampling_length ) # smapling\n",
    "\n",
    "\n",
    "    testset_list = [ dataset_path + folder for folder in [ f'/testset{word}/images', f'/testset{word}/labels' ] ]\n",
    "\n",
    "    for path in testset_list:\n",
    "        os.makedirs( path, exist_ok=True ) # 중간 경로에 없는 폴더도 생성해줌. (!= mkdir)\n",
    "    \n",
    "    for i, (trainset_image, trainset_label) in enumerate(zip(trainset_image_paths, trainset_label_paths)):\n",
    "        if i in testset_idx:\n",
    "            os.rename(trainset_image, testset_list[0]+f'/image_{i}.jpg') # image 삽입\n",
    "            os.rename(trainset_label, testset_list[1]+f'/label_{i}.jpg') # label 삽입\n",
    "    \n",
    "    # 최종 length 확인 단계\n",
    "    train_images = len(glob.glob(dataset_path + f'/trainset{word}/images/*'))\n",
    "    train_labels = len(glob.glob(dataset_path + f'/trainset{word}/labels/*'))\n",
    "    \n",
    "    validation_images = len(glob.glob(dataset_path + f'/validationset{word}/images/*'))\n",
    "    validation_labels = len(glob.glob(dataset_path + f'/validationset{word}/labels/*'))\n",
    "    \n",
    "    test_images = len(glob.glob(dataset_path + f'/testset{word}/images/*')) \n",
    "    test_labels = len(glob.glob(dataset_path + f'/testset{word}/labels/*'))\n",
    "            \n",
    "    print('trainset_image 개수 : {}, trainset_label 개수 : {},\\\n",
    "          \\nvalidationset_image 개수 : {}, validationset_label 개수 : {}\\\n",
    "          \\ntestset_image 개수 : {}, testset_label 개수 : {}'.format(train_images, train_labels,\n",
    "                                                                 validation_images, validation_labels, \n",
    "                                                                 test_images, test_labels))"
   ]
  },
  {
   "cell_type": "code",
   "execution_count": 35,
   "id": "b7bc48d3",
   "metadata": {
    "scrolled": true
   },
   "outputs": [
    {
     "name": "stdout",
     "output_type": "stream",
     "text": [
      "42\n",
      "trainset_image 개수 : 126, trainset_label 개수 : 126,          \n",
      "validationset_image 개수 : 42, validationset_label 개수 : 42          \n",
      "testset_image 개수 : 42, testset_label 개수 : 42\n"
     ]
    }
   ],
   "source": [
    "# dataset_path = '/data/segmentation/breast-cancer'\n",
    "# make_testset(dataset_path, word = '_malignant')"
   ]
  },
  {
   "cell_type": "code",
   "execution_count": 37,
   "id": "598fd753",
   "metadata": {
    "scrolled": true
   },
   "outputs": [
    {
     "name": "stdout",
     "output_type": "stream",
     "text": [
      "88\n",
      "trainset_image 개수 : 261, trainset_label 개수 : 261,          \n",
      "validationset_image 개수 : 88, validationset_label 개수 : 88          \n",
      "testset_image 개수 : 88, testset_label 개수 : 88\n"
     ]
    }
   ],
   "source": [
    "# dataset_path = '/data/segmentation/breast-cancer'\n",
    "# make_testset(dataset_path, word = '_benign')"
   ]
  },
  {
   "cell_type": "code",
   "execution_count": 43,
   "id": "281f1aed",
   "metadata": {},
   "outputs": [
    {
     "name": "stdout",
     "output_type": "stream",
     "text": [
      "trainset_image 개수 : 366, trainset_label 개수 : 366,          \n",
      "validationset_image 개수 : 123, validationset_label 개수 : 123          \n",
      "testset_image 개수 : 123, testset_label 개수 : 123\n"
     ]
    }
   ],
   "source": [
    "# dataset_path = '/data/segmentation/CVC-ClinicDB'\n",
    "# make_testset(dataset_path)"
   ]
  },
  {
   "cell_type": "code",
   "execution_count": 47,
   "id": "948b725e",
   "metadata": {
    "scrolled": true
   },
   "outputs": [
    {
     "data": {
      "text/plain": [
       "2000"
      ]
     },
     "execution_count": 47,
     "metadata": {},
     "output_type": "execute_result"
    }
   ],
   "source": [
    "# folder = glob.glob('/data/segmentation/ISIC-2017/ISIC-2017_Training_Part1_GroundTruth/*')\n",
    "# len(glob.glob(folder))"
   ]
  },
  {
   "cell_type": "code",
   "execution_count": 3,
   "id": "4efb9c25",
   "metadata": {},
   "outputs": [
    {
     "name": "stdout",
     "output_type": "stream",
     "text": [
      "trainset_image 개수 : 600, trainset_label 개수 : 600,          \n",
      "validationset_image 개수 : 200, validationset_label 개수 : 200          \n",
      "testset_image 개수 : 200, testset_label 개수 : 200\n"
     ]
    }
   ],
   "source": [
    "# dataset_path = '/data/segmentation/Kvasir-SEG'\n",
    "# make_testset(dataset_path)"
   ]
  },
  {
   "cell_type": "markdown",
   "id": "5e08e729",
   "metadata": {},
   "source": [
    "# wound data 핸들링"
   ]
  },
  {
   "cell_type": "code",
   "execution_count": 18,
   "id": "6a06f9db",
   "metadata": {},
   "outputs": [
    {
     "name": "stdout",
     "output_type": "stream",
     "text": [
      "trainset 개수: 831 testset 개수: 278\n"
     ]
    }
   ],
   "source": [
    "import glob\n",
    "import os\n",
    "\n",
    "def check_name(image_lst, label_lst):\n",
    "    for img, label in zip(image_lst, label_lst):\n",
    "        img = img.split('/')[-1]\n",
    "        label = label.split('/')[-1]\n",
    "        if img != label:\n",
    "            print('이름이 다릅니다.', img, label)\n",
    "\n",
    "wound_train_images = sorted(glob.glob('/data/wound/train/images/*'))\n",
    "wound_train_labels = sorted(glob.glob('/data/wound/train/labels/*'))\n",
    "\n",
    "wound_validation_images = sorted(glob.glob('/data/wound/test/images/*'))\n",
    "wound_validation_labels = sorted(glob.glob('/data/wound/test/labels/*'))\n",
    "check_name(wound_train_images, wound_train_labels)\n",
    "check_name(wound_validation_images, wound_validation_labels)\n",
    "\n",
    "print('trainset 개수:',len(wound_train_images), 'testset 개수:', len(wound_validation_images))"
   ]
  },
  {
   "cell_type": "code",
   "execution_count": 23,
   "id": "63dfbf53",
   "metadata": {},
   "outputs": [
    {
     "name": "stdout",
     "output_type": "stream",
     "text": [
      "image 파일 개수 : 831 \n",
      "label 파일 개수 : 831\n",
      "image 파일 개수 : 278 \n",
      "label 파일 개수 : 278\n"
     ]
    }
   ],
   "source": [
    "# working data directory로 copy하기\n",
    "import cv2\n",
    "\n",
    "def copy_image(raw_image_lst, raw_label_lst, modified_path ):\n",
    "    raw_image_lst = sorted(raw_image_lst)\n",
    "    raw_label_lst = sorted(raw_label_lst)\n",
    "    \n",
    "    for i, (raw_img, raw_label) in enumerate(zip(raw_image_lst, raw_label_lst)):\n",
    "        img = cv2.imread(raw_img)\n",
    "        cv2.imwrite(modified_path+f'/images/image_{i}.jpg', img)\n",
    "        \n",
    "        label = cv2.imread(raw_label)\n",
    "        cv2.imwrite(modified_path+f'/labels/label_{i}.jpg', label)\n",
    "    print(\"image 파일 개수 : {} \\nlabel 파일 개수 : {}\".format(len(glob.glob(modified_path + '/images/*')), \n",
    "                                                       len(glob.glob(modified_path + '/labels/*'))))\n",
    "    \n",
    "# Copy trainset \n",
    "wound_train_images = sorted(glob.glob('/data/wound/train/images/*'))\n",
    "wound_train_labels = sorted(glob.glob('/data/wound/train/labels/*'))\n",
    "modified_train_path = '/data/segmentation/wound/trainset'\n",
    "# copy_image(wound_train_images, wound_train_labels, modified_train_path)\n",
    "\n",
    "# Copy validationset \n",
    "wound_valid_images = sorted(glob.glob('/data/wound/test/images/*'))\n",
    "wound_valid_labels = sorted(glob.glob('/data/wound/test/labels/*'))\n",
    "modified_valid_path = '/data/segmentation/wound/validationset'\n",
    "# copy_image(wound_valid_images, wound_valid_labels, modified_valid_path)"
   ]
  },
  {
   "cell_type": "code",
   "execution_count": 26,
   "id": "aea9b6a3",
   "metadata": {},
   "outputs": [
    {
     "name": "stdout",
     "output_type": "stream",
     "text": [
      "trainset_image 개수 : 553, trainset_label 개수 : 553,          \n",
      "validationset_image 개수 : 278, validationset_label 개수 : 278          \n",
      "testset_image 개수 : 278, testset_label 개수 : 278\n"
     ]
    }
   ],
   "source": [
    "# wound 데이터 testset 생성하기\n",
    "\n",
    "# dataset_path = '/data/segmentation/wound'\n",
    "# make_testset(dataset_path)"
   ]
  }
 ],
 "metadata": {
  "kernelspec": {
   "display_name": "cuda_setting",
   "language": "python",
   "name": "cuda_setting"
  },
  "language_info": {
   "codemirror_mode": {
    "name": "ipython",
    "version": 3
   },
   "file_extension": ".py",
   "mimetype": "text/x-python",
   "name": "python",
   "nbconvert_exporter": "python",
   "pygments_lexer": "ipython3",
   "version": "3.9.13"
  }
 },
 "nbformat": 4,
 "nbformat_minor": 5
}
