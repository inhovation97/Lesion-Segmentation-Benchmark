{
 "cells": [
  {
   "cell_type": "markdown",
   "metadata": {
    "id": "A8rAU9PR_6LB"
   },
   "source": [
    "### 초기 경로 설정 (클래스 이용을 위함)"
   ]
  },
  {
   "cell_type": "code",
   "execution_count": 1,
   "metadata": {},
   "outputs": [
    {
     "name": "stdout",
     "output_type": "stream",
     "text": [
      "/project/segmentation/smcho1201/segmentation_project\n"
     ]
    }
   ],
   "source": [
    "%cd /project/segmentation/smcho1201/segmentation_project"
   ]
  },
  {
   "cell_type": "code",
   "execution_count": 2,
   "metadata": {},
   "outputs": [],
   "source": [
    "# files and system\n",
    "import os\n",
    "import sys\n",
    "import time\n",
    "import random\n",
    "import warnings\n",
    "warnings.filterwarnings(action='ignore')\n",
    "\n",
    "import numpy as np\n",
    "import matplotlib.pyplot as plt\n",
    "import pandas as pd\n",
    "import glob\n",
    "from IPython.display import clear_output\n",
    "# working with images\n",
    "import cv2\n",
    "import imageio\n",
    "import scipy.ndimage\n",
    "# import skimage.transform\n",
    "\n",
    "import torchvision.transforms as transforms\n",
    "\n",
    "import torch\n",
    "import torchvision\n",
    "import torch.nn as nn\n",
    "import torch.nn.functional as F\n",
    "\n",
    "\n",
    "import torchsummary\n",
    "from tqdm import notebook\n",
    "\n",
    "sys.path.insert(0, '..')\n",
    "\n",
    "# losses\n",
    "from utils.metrics import iou_pytorch_eval, IoULoss, IoUBCELoss, DiceBCELoss , dice_pytorch_eval\n",
    "from utils.metrics import iou_pytorch_test, dice_pytorch_test, precision_pytorch_test, recall_pytorch_test, fbeta_pytorch_test, accuracy_pytorch_test\n",
    "\n",
    "# dataset\n",
    "from utils.dataset import myDataSet"
   ]
  },
  {
   "cell_type": "markdown",
   "metadata": {
    "id": "6NWsOfmf_6LH"
   },
   "source": [
    "## 랜덤성을 배제한 환경 고정"
   ]
  },
  {
   "cell_type": "code",
   "execution_count": 3,
   "metadata": {
    "executionInfo": {
     "elapsed": 11,
     "status": "aborted",
     "timestamp": 1663841626889,
     "user": {
      "displayName": "김동현",
      "userId": "12784596420296644443"
     },
     "user_tz": -540
    },
    "id": "AVUjKR9g_6LI"
   },
   "outputs": [
    {
     "name": "stdout",
     "output_type": "stream",
     "text": [
      "cuda:0\n"
     ]
    }
   ],
   "source": [
    "random_seed= 42\n",
    "random.seed(random_seed)\n",
    "np.random.seed(random_seed)\n",
    "torch.manual_seed(random_seed)\n",
    "torch.cuda.manual_seed(random_seed)\n",
    "torch.backends.cudnn.deterministic = True\n",
    "\n",
    "DEVICE = torch.device(\"cuda:0\" if torch.cuda.is_available() else \"cpu\") # select device for training, i.e. gpu or cpu\n",
    "print(DEVICE)"
   ]
  },
  {
   "cell_type": "code",
   "execution_count": 4,
   "metadata": {
    "executionInfo": {
     "elapsed": 11,
     "status": "aborted",
     "timestamp": 1663841626890,
     "user": {
      "displayName": "김동현",
      "userId": "12784596420296644443"
     },
     "user_tz": -540
    },
    "id": "QsLMJcor_6LL",
    "scrolled": true
   },
   "outputs": [],
   "source": [
    "_size = 224, 224\n",
    "resize = transforms.Resize(_size, interpolation=0)\n",
    "\n",
    "test_transforms = transforms.Compose([\n",
    "                           transforms.Resize(_size, interpolation=0),\n",
    "                       ])"
   ]
  },
  {
   "cell_type": "code",
   "execution_count": 5,
   "metadata": {},
   "outputs": [],
   "source": [
    "def mk_model(model_name):\n",
    "  \n",
    "        \n",
    "    if model_name == 'Unet':  # 완료\n",
    "        from models.unet import UNet\n",
    "        model = UNet(channel_in=3, channel_out=1)\n",
    "        model = model.to(DEVICE) # load model to DEVICE\n",
    "        \n",
    "    \n",
    "    if model_name == 'UNet++':  # 완료\n",
    "        from models.nnUNet.nnunet import Nested_UNet as UNet_2p\n",
    "        model = UNet_2p(1,3)\n",
    "        model = model.to(DEVICE) # load model to DEVICE\n",
    "      \n",
    "    \n",
    "    if model_name == 'ColonSegNet':  # 완료\n",
    "        from models.ColonSegNet import CompNet as ColonSegNet\n",
    "        model = ColonSegNet()\n",
    "        model = model.to(DEVICE) # load model to DEVICE\n",
    "      \n",
    "        \n",
    "    if model_name == 'DeepLab_V3+':  # 완료\n",
    "        from models.DeepLab_V3_p.model import DeepLab as DeepLab_V3_p\n",
    "        model = DeepLab_V3_p(backbone = 'resnet', num_classes = 1)   # backbone : 선택 (resnet, xception, mobilenet)\n",
    "        model = model.to(DEVICE) # load model to DEVICE\n",
    "    \n",
    "        \n",
    "    if model_name == 'SegNet':  # 이름을 SegNet으로 바꿀 필요가 있음 / 파일 정리 필요\n",
    "        from models.SegNet.models.segnet import SegResNet\n",
    "        model = SegResNet(num_classes = 1)\n",
    "        model = model.to(DEVICE) # load model to DEVICE\n",
    "   \n",
    "        \n",
    "    if model_name == 'FCN':  # 완료\n",
    "        from models.FCN.torchvision.models.segmentation.fcn import fcn_resnet101\n",
    "        model = fcn_resnet101(num_classes = 1)\n",
    "        model = model.to(DEVICE) # load model to DEVICE\n",
    "        \n",
    "    if model_name == 'FCBFormer':  # 완료\n",
    "        from models.FCBmodels import FCBFormer\n",
    "        \n",
    "        model = FCBFormer(size=224)\n",
    "        model = model.to(DEVICE)\n",
    "    \n",
    "    if model_name == 'ESFPNet':  # 완료\n",
    "        from models.ESFPNet.ESFPmodel import ESFPNetStructure\n",
    "        \n",
    "        model = ESFPNetStructure(embedding_dim = 224)\n",
    "        model = model.to(DEVICE)\n",
    "    \n",
    "    if model_name == 'ColonFormer':  # 완료 copy 빼야할 필요가 있음\n",
    "        from mmseg.models.segmentors.colonformer import ColonFormer\n",
    "        from mmseg.models.decode_heads.uper_head import UPerHead\n",
    "        \n",
    "        backbone=dict(type='mit_b3',style='pythorch')\n",
    "        decode_head=dict(type='UPerHead', in_channels=[64], in_index=[0], channels=128, dropout_ratio=0.1,\n",
    "                            num_classes=1, norm_cfg=dict(type='BN', requires_grad=True), align_corners=False,decoder_params=dict(embed_dim=768),\n",
    "                            loss_decode=dict(type='CrossEntropyLoss', use_sigmoid=True, loss_weight=1.0))\n",
    "        model = ColonFormer(backbone,decode_head = decode_head,\n",
    "                        neck=None,\n",
    "                        auxiliary_head=None,\n",
    "                        train_cfg=dict(),\n",
    "                        test_cfg=dict(mode='whole'),\n",
    "                        pretrained='mmseg/pretrained/mit_b3.pth')\n",
    "        params = model.parameters()\n",
    "        model = model.to(DEVICE)\n",
    "  \n",
    "    return model\n",
    "\n",
    "    ###\n",
    "    "
   ]
  },
  {
   "cell_type": "markdown",
   "metadata": {},
   "source": [
    "# DICE"
   ]
  },
  {
   "cell_type": "code",
   "execution_count": null,
   "metadata": {
    "scrolled": false
   },
   "outputs": [
    {
     "name": "stdout",
     "output_type": "stream",
     "text": [
      "ISIC-2017\n",
      "start:FCN\n",
      "start:segresnet\n",
      "start:DeepLab_V3+\n",
      "start:Unet\n",
      "start:UNet++\n",
      "start:ColonSegNet\n",
      "start:FCBFormer\n",
      "start:ESFPNet\n",
      "start:ColonFormer\n"
     ]
    },
    {
     "name": "stderr",
     "output_type": "stream",
     "text": [
      "2022-11-27 13:34:00,348 - mmseg - INFO - Use load_from_local loader\n",
      "2022-11-27 13:34:00,431 - mmseg - WARNING - The model and loaded state dict do not match exactly\n",
      "\n",
      "unexpected key in source state_dict: head.weight, head.bias\n",
      "\n"
     ]
    },
    {
     "data": {
      "image/png": "[encoded data removed]",
      "text/plain": [
       "<Figure size 1200x500 with 1 Axes>"
      ]
     },
     "metadata": {},
     "output_type": "display_data"
    },
    {
     "name": "stdout",
     "output_type": "stream",
     "text": [
      "wound\n",
      "start:FCN\n",
      "start:segresnet\n",
      "start:DeepLab_V3+\n"
     ]
    }
   ],
   "source": [
    "models = ['FCN', 'SegNet', 'DeepLab_V3+', 'Unet', 'UNet++', 'ColonSegNet', 'FCBFormer','ESFPNet', 'ColonFormer']\n",
    "BATCH_SIZE = 8\n",
    "criterion = DiceBCELoss()\n",
    "\n",
    "from ploting import plot_test_image\n",
    "\n",
    "data_names = {'ISIC-2017':'ISIC', 'wound':'wound', 'Kvasir-SEG':'Kvasir', 'CVC-ClinicDB':'CVC',\n",
    "             'breast_cancer_benign':'benign', 'breast_cancer_malignant':'malignant'}\n",
    "\n",
    "for data_name in data_names:\n",
    "    print(data_name)\n",
    "    lst_model = []\n",
    "    if 'breast_cancer' in data_name:\n",
    "        name = data_name.split('breast_cancer_')[1]\n",
    "        test_images = sorted(glob.glob(f'/data/segmentation/breast-cancer/testset_{name}/images/*'))\n",
    "        test_labels = sorted(glob.glob(f'/data/segmentation/breast-cancer/testset_{name}/labels/*'))\n",
    "        test_images = [img for img in test_images if img.find('jpg')!= -1] # super pixels 이미지 제외\n",
    "\n",
    "    else:\n",
    "        test_images = sorted(glob.glob(f'/data/segmentation/{data_name}/testset/images/*'))\n",
    "        test_labels = sorted(glob.glob(f'/data/segmentation/{data_name}/testset/labels/*'))\n",
    "        test_images = [img for img in test_images if img.find('jpg')!= -1] # super pixels 이미지 제외\n",
    "\n",
    "    # 데이터셋 클래스 적용\n",
    "#     custom_dataset_test = myDataSet(test_images, test_labels, transforms=test_transforms)\n",
    "#     dataloader_test = torch.utils.data.DataLoader(custom_dataset_test, batch_size=BATCH_SIZE, shuffle=False, num_workers=2)\n",
    "\n",
    "\n",
    "\n",
    "    for model_name in models:\n",
    "        print('start:' + model_name)\n",
    "        model = mk_model(model_name)\n",
    "        model.load_state_dict(torch.load(f'checkpoints/ckpt_{model_name}_{data_names[data_name]}.pth')['net'])\n",
    "        \n",
    "#         model.eval()\n",
    "#         for i, (imgs, masks) in enumerate(dataloader_test):\n",
    "#             imgs, masks = imgs.to(DEVICE), masks.to(DEVICE)\n",
    "\n",
    "#             with torch.no_grad():\n",
    "#                 ## Prediction\n",
    "#                 prediction = model(imgs)\n",
    "#             break  \n",
    "        lst_model.append(model)\n",
    "    plot_test_image(lst_model, DEVICE, test_images, test_labels, data_name)"
   ]
  },
  {
   "cell_type": "code",
   "execution_count": null,
   "metadata": {},
   "outputs": [],
   "source": []
  },
  {
   "cell_type": "code",
   "execution_count": null,
   "metadata": {},
   "outputs": [],
   "source": []
  }
 ],
 "metadata": {
  "accelerator": "GPU",
  "colab": {
   "collapsed_sections": [],
   "provenance": [],
   "toc_visible": true
  },
  "kernelspec": {
   "display_name": "torch_sm",
   "language": "python",
   "name": "torch_sm"
  },
  "language_info": {
   "codemirror_mode": {
    "name": "ipython",
    "version": 3
   },
   "file_extension": ".py",
   "mimetype": "text/x-python",
   "name": "python",
   "nbconvert_exporter": "python",
   "pygments_lexer": "ipython3",
   "version": "3.10.6"
  },
  "toc": {
   "base_numbering": 1,
   "nav_menu": {},
   "number_sections": true,
   "sideBar": true,
   "skip_h1_title": false,
   "title_cell": "Table of Contents",
   "title_sidebar": "Contents",
   "toc_cell": false,
   "toc_position": {},
   "toc_section_display": true,
   "toc_window_display": false
  }
 },
 "nbformat": 4,
 "nbformat_minor": 1
}
