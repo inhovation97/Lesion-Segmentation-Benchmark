{
 "cells": [
  {
   "cell_type": "markdown",
   "metadata": {
    "id": "A8rAU9PR_6LB"
   },
   "source": [
    "### 초기 경로 설정 (클래스 이용을 위함)"
   ]
  },
  {
   "cell_type": "code",
   "execution_count": null,
   "metadata": {
    "scrolled": true
   },
   "outputs": [],
   "source": [
    "%cd /project/segmentation/smcho1201/segmentation_project"
   ]
  },
  {
   "cell_type": "code",
   "execution_count": null,
   "metadata": {},
   "outputs": [],
   "source": [
    "# files and system\n",
    "import os\n",
    "import sys\n",
    "import time\n",
    "import random\n",
    "import warnings\n",
    "warnings.filterwarnings(action='ignore')\n",
    "\n",
    "import numpy as np\n",
    "import matplotlib.pyplot as plt\n",
    "import pandas as pd\n",
    "import glob\n",
    "from IPython.display import clear_output\n",
    "# working with images\n",
    "import cv2\n",
    "import imageio\n",
    "import scipy.ndimage\n",
    "# import skimage.transform\n",
    "\n",
    "import torchvision.transforms as transforms\n",
    "\n",
    "import torch\n",
    "import torchvision\n",
    "import torch.nn as nn\n",
    "import torch.nn.functional as F\n",
    "\n",
    "\n",
    "import torchsummary\n",
    "from tqdm import notebook\n",
    "\n",
    "sys.path.insert(0, '..')\n",
    "\n",
    "# losses\n",
    "from utils.metrics import iou_pytorch_eval, IoULoss, IoUBCELoss, DiceBCELoss , dice_pytorch_eval\n",
    "from utils.metrics import iou_pytorch_test, dice_pytorch_test, precision_pytorch_test, recall_pytorch_test, fbeta_pytorch_test, accuracy_pytorch_test\n",
    "\n",
    "# dataset\n",
    "from utils.dataset import myDataSet"
   ]
  },
  {
   "cell_type": "markdown",
   "metadata": {
    "id": "6NWsOfmf_6LH"
   },
   "source": [
    "## 랜덤성을 배제한 환경 고정"
   ]
  },
  {
   "cell_type": "code",
   "execution_count": null,
   "metadata": {
    "executionInfo": {
     "elapsed": 11,
     "status": "aborted",
     "timestamp": 1663841626889,
     "user": {
      "displayName": "김동현",
      "userId": "12784596420296644443"
     },
     "user_tz": -540
    },
    "id": "AVUjKR9g_6LI"
   },
   "outputs": [],
   "source": [
    "random_seed= 42\n",
    "random.seed(random_seed)\n",
    "np.random.seed(random_seed)\n",
    "torch.manual_seed(random_seed)\n",
    "torch.cuda.manual_seed(random_seed)\n",
    "torch.backends.cudnn.deterministic = True\n",
    "\n",
    "DEVICE = torch.device(\"cuda\" if torch.cuda.is_available() else \"cpu\") # select device for training, i.e. gpu or cpu\n",
    "print(DEVICE)"
   ]
  },
  {
   "cell_type": "code",
   "execution_count": null,
   "metadata": {
    "executionInfo": {
     "elapsed": 11,
     "status": "aborted",
     "timestamp": 1663841626890,
     "user": {
      "displayName": "김동현",
      "userId": "12784596420296644443"
     },
     "user_tz": -540
    },
    "id": "QsLMJcor_6LL",
    "scrolled": true
   },
   "outputs": [],
   "source": [
    "_size = 224, 224\n",
    "resize = transforms.Resize(_size, interpolation=0)\n",
    "\n",
    "test_transforms = transforms.Compose([\n",
    "                           transforms.Resize(_size, interpolation=0),\n",
    "                       ])"
   ]
  },
  {
   "cell_type": "code",
   "execution_count": null,
   "metadata": {},
   "outputs": [],
   "source": [
    "def mk_model(model_name):\n",
    "    if model_name == 'Unet':\n",
    "        from models.unet import UNet\n",
    "        model = UNet(channel_in=3, channel_out=1)\n",
    "        model = model.to(DEVICE) # load model to DEVICE\n",
    "        return model\n",
    "    \n",
    "    if model_name == 'UNet++':\n",
    "        from models.nnUNet.nnunet import Nested_UNet as UNet_2p\n",
    "        model = UNet_2p(1,3)\n",
    "        model = model.to(DEVICE) # load model to DEVICE\n",
    "        return model\n",
    "    \n",
    "    if model_name == 'ResUNet+++CRF':\n",
    "        from models.ResUNet_plus3_CRF import CompNet as ResUNet_3p_CRF\n",
    "        model = ResUNet_3p_CRF()\n",
    "        model = model.to(DEVICE) # load model to DEVICE\n",
    "        return model\n",
    "        \n",
    "    if model_name == 'DeepLab_V3+':\n",
    "        from models.DeepLab_V3_p.model import DeepLab as DeepLab_V3_p\n",
    "        model = DeepLab_V3_p(backbone = 'resnet', num_classes = 1)   # backbone : 선택 (resnet, xception, mobilenet)\n",
    "        model = model.to(DEVICE) # load model to DEVICE\n",
    "        return model\n",
    "        \n",
    "    if model_name == 'segresnet':\n",
    "        from models.model_library.models.segnet import SegResNet\n",
    "        model = SegResNet(num_classes = 1)\n",
    "        model = model.to(DEVICE) # load model to DEVICE\n",
    "        return model\n",
    "        \n",
    "    if model_name == 'FCN':\n",
    "        from models.FCN.vision.vision.torchvision.models.segmentation.fcn import fcn_resnet101\n",
    "        model = fcn_resnet101(num_classes = 1)\n",
    "        model = model.to(DEVICE) # load model to DEVICE\n",
    "        return model"
   ]
  },
  {
   "cell_type": "markdown",
   "metadata": {},
   "source": [
    "# "
   ]
  },
  {
   "cell_type": "markdown",
   "metadata": {},
   "source": [
    "# "
   ]
  },
  {
   "cell_type": "markdown",
   "metadata": {},
   "source": [
    "# "
   ]
  },
  {
   "cell_type": "markdown",
   "metadata": {},
   "source": [
    "# DICE"
   ]
  },
  {
   "cell_type": "code",
   "execution_count": null,
   "metadata": {
    "scrolled": true
   },
   "outputs": [],
   "source": [
    "models = ['FCN', 'segresnet', 'DeepLab_V3+', 'Unet', 'UNet++', 'ResUNet+++CRF']\n",
    "models = ['UNet++']\n",
    "\n",
    "BATCH_SIZE = 8\n",
    "criterion = DiceBCELoss()\n",
    "\n",
    "\n",
    "data_names = {'ISIC-2017':'ISIC', 'wound':'wound', 'Kvasir-SEG':'Kvasir', 'CVC-ClinicDB':'CVC',\n",
    "             'breast_cancer_benign':'benign', 'breast_cancer_malignant':'malignant'}\n",
    "\n",
    "data_names = {'CVC-ClinicDB':'CVC'}\n",
    "\n",
    "lst_test = []\n",
    "for model_name in models:\n",
    "    model = mk_model(model_name)\n",
    "\n",
    "    \n",
    "    for data_name in data_names:\n",
    "        # model = mk_model()\n",
    "        if 'breast_cancer' in data_name:\n",
    "            name = data_name.split('breast_cancer_')[1]\n",
    "            test_images = sorted(glob.glob(f'/data/segmentation/breast-cancer/testset_{name}/images/*'))\n",
    "            test_labels = sorted(glob.glob(f'/data/segmentation/breast-cancer/testset_{name}/labels/*'))\n",
    "            test_images = [img for img in test_images if img.find('jpg')!= -1] # super pixels 이미지 제외\n",
    "\n",
    "        else:\n",
    "            test_images = sorted(glob.glob(f'/data/segmentation/{data_name}/testset/images/*'))\n",
    "            test_labels = sorted(glob.glob(f'/data/segmentation/{data_name}/testset/labels/*'))\n",
    "            test_images = [img for img in test_images if img.find('jpg')!= -1] # super pixels 이미지 제외\n",
    "\n",
    "        model.load_state_dict(torch.load(f'checkpoints/ckpt_{model_name}_{data_names[data_name]}.pth')['net'])\n",
    "\n",
    "        # 데이터셋 클래스 적용\n",
    "        custom_dataset_test = myDataSet(test_images, test_labels, transforms=test_transforms)\n",
    "        dataloader_test = torch.utils.data.DataLoader(custom_dataset_test, batch_size=BATCH_SIZE, shuffle=False, num_workers=2)\n",
    "\n",
    "        model.eval()\n",
    "        test_dice = 0\n",
    "        #test_loss, test_iou, test_dice = 0, 0, 0\n",
    "        \n",
    "        \n",
    "        for i, (imgs, masks) in enumerate(dataloader_test):\n",
    "            imgs, masks = imgs.to(DEVICE), masks.to(DEVICE)\n",
    "\n",
    "            with torch.no_grad():\n",
    "                ## Prediction\n",
    "                prediction = model(imgs)\n",
    "\n",
    "            loss = criterion(prediction, masks)\n",
    "\n",
    "    #         test_loss += loss.item()\n",
    "    #         test_iou += iou_pytorch_eval(prediction, masks)\n",
    "            test_dice += dice_pytorch_eval(prediction, masks)                                      # test_loss/(i+1), test_iou/(i+1), \n",
    "            print(\"\\r {:} {:} Test. Dice: {:.8f}\". format(model_name, data_names[data_name], test_dice/(i+1)), end=\"\")\n",
    "        \n",
    "        \n",
    "        \n",
    "        lst_test.append((test_dice/(i+1)).cpu().numpy())\n",
    "\n",
    "arr = np.array(lst_test)\n",
    "arr = arr.reshape(6,6)\n",
    "\n",
    "df = pd.DataFrame(arr.T)\n",
    "df.to_csv('/project/segmentation/smcho1201/test_DICE.csv', index=False)\n",
    "\n",
    "\n",
    "        #df_epoch_metric = pd.DataFrame(lst_test, columns = ['test_losses', 'test_iou', 'test_dice'], index = [data_name])\n",
    "\n",
    "        #df_epoch_metric.to_csv(f'/project/segmentation/smcho1201/training_{model_name}/test_{data_name}.csv', index_label = [''])"
   ]
  },
  {
   "cell_type": "code",
   "execution_count": null,
   "metadata": {},
   "outputs": [],
   "source": [
    "arr.T # 열 : 모델  / 행 : 데이터"
   ]
  },
  {
   "cell_type": "markdown",
   "metadata": {},
   "source": [
    "# "
   ]
  },
  {
   "cell_type": "markdown",
   "metadata": {},
   "source": [
    "# "
   ]
  },
  {
   "cell_type": "markdown",
   "metadata": {},
   "source": [
    "# "
   ]
  },
  {
   "cell_type": "markdown",
   "metadata": {},
   "source": [
    "# IOU"
   ]
  },
  {
   "cell_type": "code",
   "execution_count": 8,
   "metadata": {},
   "outputs": [
    {
     "name": "stdout",
     "output_type": "stream",
     "text": [
      " ResUNet+++CRF malignant Test. Dice: 0.5044"
     ]
    }
   ],
   "source": [
    "models = ['FCN', 'segresnet', 'DeepLab_V3+', 'Unet', 'UNet++', 'ResUNet+++CRF']\n",
    "\n",
    "BATCH_SIZE = 8\n",
    "criterion = DiceBCELoss()\n",
    "\n",
    "\n",
    "data_names = {'ISIC-2017':'ISIC', 'wound':'wound', 'Kvasir-SEG':'Kvasir', 'CVC-ClinicDB':'CVC',\n",
    "             'breast_cancer_benign':'benign', 'breast_cancer_malignant':'malignant'}\n",
    "\n",
    "lst_test = []\n",
    "for model_name in models:\n",
    "    model = mk_model(model_name)\n",
    "\n",
    "    \n",
    "    for data_name in data_names:\n",
    "        # model = mk_model()\n",
    "        if 'breast_cancer' in data_name:\n",
    "            name = data_name.split('breast_cancer_')[1]\n",
    "            test_images = sorted(glob.glob(f'/data/segmentation/breast-cancer/testset_{name}/images/*'))\n",
    "            test_labels = sorted(glob.glob(f'/data/segmentation/breast-cancer/testset_{name}/labels/*'))\n",
    "            test_images = [img for img in test_images if img.find('jpg')!= -1] # super pixels 이미지 제외\n",
    "\n",
    "        else:\n",
    "            test_images = sorted(glob.glob(f'/data/segmentation/{data_name}/testset/images/*'))\n",
    "            test_labels = sorted(glob.glob(f'/data/segmentation/{data_name}/testset/labels/*'))\n",
    "            test_images = [img for img in test_images if img.find('jpg')!= -1] # super pixels 이미지 제외\n",
    "\n",
    "        model.load_state_dict(torch.load(f'checkpoints/ckpt_{model_name}_{data_names[data_name]}.pth')['net'])\n",
    "\n",
    "        # 데이터셋 클래스 적용\n",
    "        custom_dataset_test = myDataSet(test_images, test_labels, transforms=test_transforms)\n",
    "        dataloader_test = torch.utils.data.DataLoader(custom_dataset_test, batch_size=BATCH_SIZE, shuffle=False, num_workers=2)\n",
    "\n",
    "        model.eval()\n",
    "        test_iou = 0\n",
    "        #test_loss, test_iou, test_dice = 0, 0, 0\n",
    "        \n",
    "        \n",
    "        for i, (imgs, masks) in enumerate(dataloader_test):\n",
    "            imgs, masks = imgs.to(DEVICE), masks.to(DEVICE)\n",
    "\n",
    "            with torch.no_grad():\n",
    "                ## Prediction\n",
    "                prediction = model(imgs)\n",
    "\n",
    "            loss = criterion(prediction, masks)\n",
    "\n",
    "            #test_loss += loss.item()\n",
    "            test_iou += iou_pytorch_eval(prediction, masks)\n",
    "            #test_dice += dice_pytorch_eval(prediction, masks)                                      # test_loss/(i+1), test_iou/(i+1), \n",
    "            print(\"\\r {:} {:} Test. Dice: {:.8f}\". format(model_name, data_names[data_name], test_iou/(i+1)), end=\"\")\n",
    "        \n",
    "        \n",
    "        \n",
    "        lst_test.append((test_iou/(i+1)).cpu().numpy())\n",
    "\n",
    "arr = np.array(lst_test)\n",
    "arr = arr.reshape(6,6)\n",
    "\n",
    "df = pd.DataFrame(arr.T)\n",
    "df.to_csv('/project/segmentation/smcho1201/test_IOU.csv', index=False)\n",
    "\n",
    "\n",
    "        #df_epoch_metric = pd.DataFrame(lst_test, columns = ['test_losses', 'test_iou', 'test_dice'], index = [data_name])\n",
    "\n",
    "        #df_epoch_metric.to_csv(f'/project/segmentation/smcho1201/training_{model_name}/test_{data_name}.csv', index_label = [''])"
   ]
  },
  {
   "cell_type": "code",
   "execution_count": 9,
   "metadata": {},
   "outputs": [
    {
     "data": {
      "text/plain": [
       "array([[0.7612214 , 0.7438964 , 0.7689675 , 0.7398602 , 0.74499077,\n",
       "        0.7324739 ],\n",
       "       [0.7265097 , 0.7232313 , 0.7252167 , 0.7343531 , 0.71189195,\n",
       "        0.73689014],\n",
       "       [0.8103446 , 0.7951529 , 0.7891718 , 0.702561  , 0.6598387 ,\n",
       "        0.6378765 ],\n",
       "       [0.81176937, 0.77313024, 0.8037007 , 0.6961664 , 0.6375786 ,\n",
       "        0.5825466 ],\n",
       "       [0.74060076, 0.72025084, 0.7569311 , 0.7138868 , 0.68189055,\n",
       "        0.6156441 ],\n",
       "       [0.65017605, 0.6195327 , 0.665076  , 0.5633    , 0.59186035,\n",
       "        0.5043809 ]], dtype=float32)"
      ]
     },
     "execution_count": 9,
     "metadata": {},
     "output_type": "execute_result"
    }
   ],
   "source": [
    "arr.T # 열 : 모델  / 행 : 데이터"
   ]
  },
  {
   "cell_type": "markdown",
   "metadata": {},
   "source": [
    "# "
   ]
  },
  {
   "cell_type": "markdown",
   "metadata": {},
   "source": [
    "# "
   ]
  },
  {
   "cell_type": "markdown",
   "metadata": {},
   "source": [
    "# "
   ]
  },
  {
   "cell_type": "markdown",
   "metadata": {},
   "source": [
    "# LOSS"
   ]
  },
  {
   "cell_type": "code",
   "execution_count": 11,
   "metadata": {},
   "outputs": [
    {
     "name": "stdout",
     "output_type": "stream",
     "text": [
      " ResUNet+++CRF malignant Test. Dice: 0.8518"
     ]
    }
   ],
   "source": [
    "models = ['FCN', 'segresnet', 'DeepLab_V3+', 'Unet', 'UNet++', 'ResUNet+++CRF']\n",
    "\n",
    "BATCH_SIZE = 8\n",
    "criterion = DiceBCELoss()\n",
    "\n",
    "\n",
    "data_names = {'ISIC-2017':'ISIC', 'wound':'wound', 'Kvasir-SEG':'Kvasir', 'CVC-ClinicDB':'CVC',\n",
    "             'breast_cancer_benign':'benign', 'breast_cancer_malignant':'malignant'}\n",
    "\n",
    "lst_test = []\n",
    "for model_name in models:\n",
    "    model = mk_model(model_name)\n",
    "\n",
    "    \n",
    "    for data_name in data_names:\n",
    "        # model = mk_model()\n",
    "        if 'breast_cancer' in data_name:\n",
    "            name = data_name.split('breast_cancer_')[1]\n",
    "            test_images = sorted(glob.glob(f'/data/segmentation/breast-cancer/testset_{name}/images/*'))\n",
    "            test_labels = sorted(glob.glob(f'/data/segmentation/breast-cancer/testset_{name}/labels/*'))\n",
    "            test_images = [img for img in test_images if img.find('jpg')!= -1] # super pixels 이미지 제외\n",
    "\n",
    "        else:\n",
    "            test_images = sorted(glob.glob(f'/data/segmentation/{data_name}/testset/images/*'))\n",
    "            test_labels = sorted(glob.glob(f'/data/segmentation/{data_name}/testset/labels/*'))\n",
    "            test_images = [img for img in test_images if img.find('jpg')!= -1] # super pixels 이미지 제외\n",
    "\n",
    "        model.load_state_dict(torch.load(f'checkpoints/ckpt_{model_name}_{data_names[data_name]}.pth')['net'])\n",
    "\n",
    "        # 데이터셋 클래스 적용\n",
    "        custom_dataset_test = myDataSet(test_images, test_labels, transforms=test_transforms)\n",
    "        dataloader_test = torch.utils.data.DataLoader(custom_dataset_test, batch_size=BATCH_SIZE, shuffle=False, num_workers=2)\n",
    "\n",
    "        model.eval()\n",
    "        test_loss = 0\n",
    "        #test_loss, test_iou, test_dice = 0, 0, 0\n",
    "        \n",
    "        \n",
    "        for i, (imgs, masks) in enumerate(dataloader_test):\n",
    "            imgs, masks = imgs.to(DEVICE), masks.to(DEVICE)\n",
    "\n",
    "            with torch.no_grad():\n",
    "                ## Prediction\n",
    "                prediction = model(imgs)\n",
    "\n",
    "            loss = criterion(prediction, masks)\n",
    "\n",
    "            test_loss += loss.item()\n",
    "            #test_iou += iou_pytorch_eval(prediction, masks)\n",
    "            #test_dice += dice_pytorch_eval(prediction, masks)                                      # test_loss/(i+1), test_iou/(i+1), \n",
    "            print(\"\\r {:} {:} Test. Dice: {:.8f}\". format(model_name, data_names[data_name], test_loss/(i+1)), end=\"\")\n",
    "        \n",
    "        \n",
    "        \n",
    "        lst_test.append((test_loss/(i+1)))\n",
    "\n",
    "arr = np.array(lst_test)\n",
    "arr = arr.reshape(6,6)\n",
    "\n",
    "df = pd.DataFrame(arr.T)\n",
    "df.to_csv('/project/segmentation/smcho1201/test_LOSS.csv', index=False)\n",
    "\n",
    "\n",
    "        #df_epoch_metric = pd.DataFrame(lst_test, columns = ['test_losses', 'test_iou', 'test_dice'], index = [data_name])\n",
    "\n",
    "        #df_epoch_metric.to_csv(f'/project/segmentation/smcho1201/training_{model_name}/test_{data_name}.csv', index_label = [''])"
   ]
  },
  {
   "cell_type": "code",
   "execution_count": 12,
   "metadata": {},
   "outputs": [
    {
     "data": {
      "text/plain": [
       "array([[0.49590104, 0.65180785, 0.53428461, 0.65734848, 0.48943686,\n",
       "        0.50026572],\n",
       "       [0.16408304, 0.36291931, 0.17025495, 0.18043468, 0.32577077,\n",
       "        0.18262952],\n",
       "       [0.5354659 , 0.50663877, 0.37187739, 0.6045604 , 0.5741565 ,\n",
       "        0.60684647],\n",
       "       [0.19693058, 0.27398576, 0.23929104, 0.38589547, 0.52779048,\n",
       "        0.50545075],\n",
       "       [0.38081227, 0.46018622, 0.3781466 , 0.39464181, 0.79218178,\n",
       "        0.51817868],\n",
       "       [0.58388782, 0.5287721 , 0.53404205, 0.68724543, 0.74559362,\n",
       "        0.85175658]])"
      ]
     },
     "execution_count": 12,
     "metadata": {},
     "output_type": "execute_result"
    }
   ],
   "source": [
    "arr.T # 열 : 모델  / 행 : 데이터"
   ]
  },
  {
   "cell_type": "markdown",
   "metadata": {},
   "source": [
    "# "
   ]
  },
  {
   "cell_type": "markdown",
   "metadata": {},
   "source": [
    "# "
   ]
  },
  {
   "cell_type": "markdown",
   "metadata": {},
   "source": [
    "# "
   ]
  },
  {
   "cell_type": "markdown",
   "metadata": {},
   "source": [
    "# 결과확인"
   ]
  },
  {
   "cell_type": "code",
   "execution_count": 19,
   "metadata": {},
   "outputs": [],
   "source": [
    "DICE = pd.read_csv('/project/segmentation/smcho1201/test_DICE.csv')\n",
    "IOU = pd.read_csv('/project/segmentation/smcho1201/test_IOU.csv')\n",
    "LOSS = pd.read_csv('/project/segmentation/smcho1201/test_LOSS.csv')"
   ]
  },
  {
   "cell_type": "code",
   "execution_count": 20,
   "metadata": {},
   "outputs": [
    {
     "data": {
      "text/html": [
       "<div>\n",
       "<style scoped>\n",
       "    .dataframe tbody tr th:only-of-type {\n",
       "        vertical-align: middle;\n",
       "    }\n",
       "\n",
       "    .dataframe tbody tr th {\n",
       "        vertical-align: top;\n",
       "    }\n",
       "\n",
       "    .dataframe thead th {\n",
       "        text-align: right;\n",
       "    }\n",
       "</style>\n",
       "<table border=\"1\" class=\"dataframe\">\n",
       "  <thead>\n",
       "    <tr style=\"text-align: right;\">\n",
       "      <th></th>\n",
       "      <th>0</th>\n",
       "      <th>1</th>\n",
       "      <th>2</th>\n",
       "      <th>3</th>\n",
       "      <th>4</th>\n",
       "      <th>5</th>\n",
       "    </tr>\n",
       "  </thead>\n",
       "  <tbody>\n",
       "    <tr>\n",
       "      <th>0</th>\n",
       "      <td>0.847799</td>\n",
       "      <td>0.832859</td>\n",
       "      <td>0.851966</td>\n",
       "      <td>0.829580</td>\n",
       "      <td>0.835013</td>\n",
       "      <td>0.819933</td>\n",
       "    </tr>\n",
       "    <tr>\n",
       "      <th>1</th>\n",
       "      <td>0.831074</td>\n",
       "      <td>0.847064</td>\n",
       "      <td>0.824289</td>\n",
       "      <td>0.830471</td>\n",
       "      <td>0.810033</td>\n",
       "      <td>0.837722</td>\n",
       "    </tr>\n",
       "    <tr>\n",
       "      <th>2</th>\n",
       "      <td>0.877945</td>\n",
       "      <td>0.867238</td>\n",
       "      <td>0.861689</td>\n",
       "      <td>0.789182</td>\n",
       "      <td>0.751535</td>\n",
       "      <td>0.747169</td>\n",
       "    </tr>\n",
       "    <tr>\n",
       "      <th>3</th>\n",
       "      <td>0.876755</td>\n",
       "      <td>0.842266</td>\n",
       "      <td>0.871246</td>\n",
       "      <td>0.762239</td>\n",
       "      <td>0.728981</td>\n",
       "      <td>0.689651</td>\n",
       "    </tr>\n",
       "    <tr>\n",
       "      <th>4</th>\n",
       "      <td>0.812883</td>\n",
       "      <td>0.801309</td>\n",
       "      <td>0.835011</td>\n",
       "      <td>0.777914</td>\n",
       "      <td>0.766945</td>\n",
       "      <td>0.704840</td>\n",
       "    </tr>\n",
       "    <tr>\n",
       "      <th>5</th>\n",
       "      <td>0.753114</td>\n",
       "      <td>0.741560</td>\n",
       "      <td>0.772088</td>\n",
       "      <td>0.668712</td>\n",
       "      <td>0.708943</td>\n",
       "      <td>0.645505</td>\n",
       "    </tr>\n",
       "  </tbody>\n",
       "</table>\n",
       "</div>"
      ],
      "text/plain": [
       "          0         1         2         3         4         5\n",
       "0  0.847799  0.832859  0.851966  0.829580  0.835013  0.819933\n",
       "1  0.831074  0.847064  0.824289  0.830471  0.810033  0.837722\n",
       "2  0.877945  0.867238  0.861689  0.789182  0.751535  0.747169\n",
       "3  0.876755  0.842266  0.871246  0.762239  0.728981  0.689651\n",
       "4  0.812883  0.801309  0.835011  0.777914  0.766945  0.704840\n",
       "5  0.753114  0.741560  0.772088  0.668712  0.708943  0.645505"
      ]
     },
     "execution_count": 20,
     "metadata": {},
     "output_type": "execute_result"
    }
   ],
   "source": [
    "DICE"
   ]
  },
  {
   "cell_type": "code",
   "execution_count": 15,
   "metadata": {},
   "outputs": [
    {
     "data": {
      "text/html": [
       "<div>\n",
       "<style scoped>\n",
       "    .dataframe tbody tr th:only-of-type {\n",
       "        vertical-align: middle;\n",
       "    }\n",
       "\n",
       "    .dataframe tbody tr th {\n",
       "        vertical-align: top;\n",
       "    }\n",
       "\n",
       "    .dataframe thead th {\n",
       "        text-align: right;\n",
       "    }\n",
       "</style>\n",
       "<table border=\"1\" class=\"dataframe\">\n",
       "  <thead>\n",
       "    <tr style=\"text-align: right;\">\n",
       "      <th></th>\n",
       "      <th>0</th>\n",
       "      <th>1</th>\n",
       "      <th>2</th>\n",
       "      <th>3</th>\n",
       "      <th>4</th>\n",
       "      <th>5</th>\n",
       "    </tr>\n",
       "  </thead>\n",
       "  <tbody>\n",
       "    <tr>\n",
       "      <th>0</th>\n",
       "      <td>0.761221</td>\n",
       "      <td>0.743896</td>\n",
       "      <td>0.768968</td>\n",
       "      <td>0.739860</td>\n",
       "      <td>0.744991</td>\n",
       "      <td>0.732474</td>\n",
       "    </tr>\n",
       "    <tr>\n",
       "      <th>1</th>\n",
       "      <td>0.726510</td>\n",
       "      <td>0.723231</td>\n",
       "      <td>0.725217</td>\n",
       "      <td>0.734353</td>\n",
       "      <td>0.711892</td>\n",
       "      <td>0.736890</td>\n",
       "    </tr>\n",
       "    <tr>\n",
       "      <th>2</th>\n",
       "      <td>0.810345</td>\n",
       "      <td>0.795153</td>\n",
       "      <td>0.789172</td>\n",
       "      <td>0.702561</td>\n",
       "      <td>0.659839</td>\n",
       "      <td>0.637876</td>\n",
       "    </tr>\n",
       "    <tr>\n",
       "      <th>3</th>\n",
       "      <td>0.811769</td>\n",
       "      <td>0.773130</td>\n",
       "      <td>0.803701</td>\n",
       "      <td>0.696166</td>\n",
       "      <td>0.637579</td>\n",
       "      <td>0.582547</td>\n",
       "    </tr>\n",
       "    <tr>\n",
       "      <th>4</th>\n",
       "      <td>0.740601</td>\n",
       "      <td>0.720251</td>\n",
       "      <td>0.756931</td>\n",
       "      <td>0.713887</td>\n",
       "      <td>0.681891</td>\n",
       "      <td>0.615644</td>\n",
       "    </tr>\n",
       "    <tr>\n",
       "      <th>5</th>\n",
       "      <td>0.650176</td>\n",
       "      <td>0.619533</td>\n",
       "      <td>0.665076</td>\n",
       "      <td>0.563300</td>\n",
       "      <td>0.591860</td>\n",
       "      <td>0.504381</td>\n",
       "    </tr>\n",
       "  </tbody>\n",
       "</table>\n",
       "</div>"
      ],
      "text/plain": [
       "          0         1         2         3         4         5\n",
       "0  0.761221  0.743896  0.768968  0.739860  0.744991  0.732474\n",
       "1  0.726510  0.723231  0.725217  0.734353  0.711892  0.736890\n",
       "2  0.810345  0.795153  0.789172  0.702561  0.659839  0.637876\n",
       "3  0.811769  0.773130  0.803701  0.696166  0.637579  0.582547\n",
       "4  0.740601  0.720251  0.756931  0.713887  0.681891  0.615644\n",
       "5  0.650176  0.619533  0.665076  0.563300  0.591860  0.504381"
      ]
     },
     "execution_count": 15,
     "metadata": {},
     "output_type": "execute_result"
    }
   ],
   "source": [
    "IOU"
   ]
  },
  {
   "cell_type": "code",
   "execution_count": 16,
   "metadata": {},
   "outputs": [
    {
     "data": {
      "text/html": [
       "<div>\n",
       "<style scoped>\n",
       "    .dataframe tbody tr th:only-of-type {\n",
       "        vertical-align: middle;\n",
       "    }\n",
       "\n",
       "    .dataframe tbody tr th {\n",
       "        vertical-align: top;\n",
       "    }\n",
       "\n",
       "    .dataframe thead th {\n",
       "        text-align: right;\n",
       "    }\n",
       "</style>\n",
       "<table border=\"1\" class=\"dataframe\">\n",
       "  <thead>\n",
       "    <tr style=\"text-align: right;\">\n",
       "      <th></th>\n",
       "      <th>0</th>\n",
       "      <th>1</th>\n",
       "      <th>2</th>\n",
       "      <th>3</th>\n",
       "      <th>4</th>\n",
       "      <th>5</th>\n",
       "    </tr>\n",
       "  </thead>\n",
       "  <tbody>\n",
       "    <tr>\n",
       "      <th>0</th>\n",
       "      <td>0.495901</td>\n",
       "      <td>0.651808</td>\n",
       "      <td>0.534285</td>\n",
       "      <td>0.657348</td>\n",
       "      <td>0.489437</td>\n",
       "      <td>0.500266</td>\n",
       "    </tr>\n",
       "    <tr>\n",
       "      <th>1</th>\n",
       "      <td>0.164083</td>\n",
       "      <td>0.362919</td>\n",
       "      <td>0.170255</td>\n",
       "      <td>0.180435</td>\n",
       "      <td>0.325771</td>\n",
       "      <td>0.182630</td>\n",
       "    </tr>\n",
       "    <tr>\n",
       "      <th>2</th>\n",
       "      <td>0.535466</td>\n",
       "      <td>0.506639</td>\n",
       "      <td>0.371877</td>\n",
       "      <td>0.604560</td>\n",
       "      <td>0.574157</td>\n",
       "      <td>0.606846</td>\n",
       "    </tr>\n",
       "    <tr>\n",
       "      <th>3</th>\n",
       "      <td>0.196931</td>\n",
       "      <td>0.273986</td>\n",
       "      <td>0.239291</td>\n",
       "      <td>0.385895</td>\n",
       "      <td>0.527790</td>\n",
       "      <td>0.505451</td>\n",
       "    </tr>\n",
       "    <tr>\n",
       "      <th>4</th>\n",
       "      <td>0.380812</td>\n",
       "      <td>0.460186</td>\n",
       "      <td>0.378147</td>\n",
       "      <td>0.394642</td>\n",
       "      <td>0.792182</td>\n",
       "      <td>0.518179</td>\n",
       "    </tr>\n",
       "    <tr>\n",
       "      <th>5</th>\n",
       "      <td>0.583888</td>\n",
       "      <td>0.528772</td>\n",
       "      <td>0.534042</td>\n",
       "      <td>0.687245</td>\n",
       "      <td>0.745594</td>\n",
       "      <td>0.851757</td>\n",
       "    </tr>\n",
       "  </tbody>\n",
       "</table>\n",
       "</div>"
      ],
      "text/plain": [
       "          0         1         2         3         4         5\n",
       "0  0.495901  0.651808  0.534285  0.657348  0.489437  0.500266\n",
       "1  0.164083  0.362919  0.170255  0.180435  0.325771  0.182630\n",
       "2  0.535466  0.506639  0.371877  0.604560  0.574157  0.606846\n",
       "3  0.196931  0.273986  0.239291  0.385895  0.527790  0.505451\n",
       "4  0.380812  0.460186  0.378147  0.394642  0.792182  0.518179\n",
       "5  0.583888  0.528772  0.534042  0.687245  0.745594  0.851757"
      ]
     },
     "execution_count": 16,
     "metadata": {},
     "output_type": "execute_result"
    }
   ],
   "source": [
    "LOSS"
   ]
  },
  {
   "cell_type": "code",
   "execution_count": null,
   "metadata": {},
   "outputs": [],
   "source": []
  }
 ],
 "metadata": {
  "accelerator": "GPU",
  "colab": {
   "collapsed_sections": [],
   "provenance": [],
   "toc_visible": true
  },
  "kernelspec": {
   "display_name": "torch_sm",
   "language": "python",
   "name": "torch_sm"
  },
  "language_info": {
   "codemirror_mode": {
    "name": "ipython",
    "version": 3
   },
   "file_extension": ".py",
   "mimetype": "text/x-python",
   "name": "python",
   "nbconvert_exporter": "python",
   "pygments_lexer": "ipython3",
   "version": "3.10.6"
  },
  "toc": {
   "base_numbering": 1,
   "nav_menu": {},
   "number_sections": true,
   "sideBar": true,
   "skip_h1_title": false,
   "title_cell": "Table of Contents",
   "title_sidebar": "Contents",
   "toc_cell": false,
   "toc_position": {},
   "toc_section_display": true,
   "toc_window_display": false
  }
 },
 "nbformat": 4,
 "nbformat_minor": 1
}
