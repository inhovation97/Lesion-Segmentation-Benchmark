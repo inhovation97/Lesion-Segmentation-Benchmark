{
 "cells": [
  {
   "cell_type": "markdown",
   "metadata": {
    "id": "A8rAU9PR_6LB"
   },
   "source": [
    "### 초기 경로 설정 (클래스 이용을 위함)"
   ]
  },
  {
   "cell_type": "code",
   "execution_count": 1,
   "metadata": {
    "scrolled": true
   },
   "outputs": [
    {
     "name": "stdout",
     "output_type": "stream",
     "text": [
      "/project/segmentation/smcho1201/segmentation_project\n"
     ]
    }
   ],
   "source": [
    "%cd /project/segmentation/smcho1201/segmentation_project"
   ]
  },
  {
   "cell_type": "code",
   "execution_count": 2,
   "metadata": {},
   "outputs": [],
   "source": [
    "# files and system\n",
    "import os\n",
    "import sys\n",
    "import time\n",
    "import random\n",
    "\n",
    "import numpy as np\n",
    "import matplotlib.pyplot as plt\n",
    "import pandas as pd\n",
    "import glob\n",
    "from IPython.display import clear_output\n",
    "# working with images\n",
    "import cv2\n",
    "import imageio\n",
    "import scipy.ndimage\n",
    "# import skimage.transform\n",
    "\n",
    "import torchvision.transforms as transforms\n",
    "\n",
    "import torch\n",
    "import torchvision\n",
    "import torch.nn as nn\n",
    "import torch.nn.functional as F\n",
    "\n",
    "\n",
    "import torchsummary\n",
    "from tqdm import notebook\n",
    "\n",
    "sys.path.insert(0, '..')\n",
    "\n",
    "# losses\n",
    "from utils.metrics import iou_pytorch_eval, IoULoss, IoUBCELoss\n",
    "from utils.metrics import iou_pytorch_test, dice_pytorch_test, precision_pytorch_test, recall_pytorch_test, fbeta_pytorch_test, accuracy_pytorch_test\n",
    "\n",
    "# dataset\n",
    "from utils.dataset import myDataSet"
   ]
  },
  {
   "cell_type": "markdown",
   "metadata": {
    "id": "6NWsOfmf_6LH"
   },
   "source": [
    "## 랜덤성을 배제한 환경 고정"
   ]
  },
  {
   "cell_type": "code",
   "execution_count": 3,
   "metadata": {
    "executionInfo": {
     "elapsed": 11,
     "status": "aborted",
     "timestamp": 1663841626889,
     "user": {
      "displayName": "김동현",
      "userId": "12784596420296644443"
     },
     "user_tz": -540
    },
    "id": "AVUjKR9g_6LI"
   },
   "outputs": [],
   "source": [
    "from models.nnUNet.nnunet import Nested_UNet as UNet\n",
    "\n",
    "random_seed= 42\n",
    "random.seed(random_seed)\n",
    "np.random.seed(random_seed)\n",
    "torch.manual_seed(random_seed)\n",
    "torch.cuda.manual_seed(random_seed)\n",
    "torch.backends.cudnn.deterministic = True"
   ]
  },
  {
   "cell_type": "code",
   "execution_count": 10,
   "metadata": {},
   "outputs": [
    {
     "name": "stdout",
     "output_type": "stream",
     "text": [
      "Thu Oct  6 18:52:20 2022       \r\n",
      "+-----------------------------------------------------------------------------+\r\n",
      "| NVIDIA-SMI 495.29.05    Driver Version: 495.29.05    CUDA Version: 11.5     |\r\n",
      "|-------------------------------+----------------------+----------------------+\r\n",
      "| GPU  Name        Persistence-M| Bus-Id        Disp.A | Volatile Uncorr. ECC |\r\n",
      "| Fan  Temp  Perf  Pwr:Usage/Cap|         Memory-Usage | GPU-Util  Compute M. |\r\n",
      "|                               |                      |               MIG M. |\r\n",
      "|===============================+======================+======================|\r\n",
      "|   0  NVIDIA GeForce ...  Off  | 00000000:21:00.0 Off |                  N/A |\r\n",
      "| 35%   49C    P2   147W / 350W |   2403MiB / 24265MiB |     25%      Default |\r\n",
      "|                               |                      |                  N/A |\r\n",
      "+-------------------------------+----------------------+----------------------+\r\n",
      "|   1  NVIDIA GeForce ...  Off  | 00000000:48:00.0 Off |                  N/A |\r\n",
      "| 35%   25C    P8     9W / 350W |      2MiB / 24268MiB |      0%      Default |\r\n",
      "|                               |                      |                  N/A |\r\n",
      "+-------------------------------+----------------------+----------------------+\r\n",
      "                                                                               \r\n",
      "+-----------------------------------------------------------------------------+\r\n",
      "| Processes:                                                                  |\r\n",
      "|  GPU   GI   CI        PID   Type   Process name                  GPU Memory |\r\n",
      "|        ID   ID                                                   Usage      |\r\n",
      "|=============================================================================|\r\n",
      "|    0   N/A  N/A   1458725      C   ...ge/anaconda3.9/bin/python     2401MiB |\r\n",
      "+-----------------------------------------------------------------------------+\r\n"
     ]
    }
   ],
   "source": [
    "!nvidia-smi"
   ]
  },
  {
   "cell_type": "code",
   "execution_count": 4,
   "metadata": {
    "executionInfo": {
     "elapsed": 10,
     "status": "aborted",
     "timestamp": 1663841626889,
     "user": {
      "displayName": "김동현",
      "userId": "12784596420296644443"
     },
     "user_tz": -540
    },
    "id": "__iQco2m_6LI",
    "scrolled": true
   },
   "outputs": [
    {
     "name": "stdout",
     "output_type": "stream",
     "text": [
      "cuda:1\n"
     ]
    }
   ],
   "source": [
    "DEVICE = torch.device(\"cuda:1\" if torch.cuda.is_available() else \"cpu\") # select device for training, i.e. gpu or cpu\n",
    "print(DEVICE)"
   ]
  },
  {
   "cell_type": "markdown",
   "metadata": {
    "id": "_hE6MqJ9_6LL"
   },
   "source": [
    "# 1. Image augentation\n",
    "> 실험할 때는 아예 augmentation도 고정시켜서 저장한 이미지를 사용해야 함."
   ]
  },
  {
   "cell_type": "code",
   "execution_count": 5,
   "metadata": {
    "executionInfo": {
     "elapsed": 11,
     "status": "aborted",
     "timestamp": 1663841626890,
     "user": {
      "displayName": "김동현",
      "userId": "12784596420296644443"
     },
     "user_tz": -540
    },
    "id": "QsLMJcor_6LL"
   },
   "outputs": [
    {
     "name": "stderr",
     "output_type": "stream",
     "text": [
      "/home/smcho1201/.conda/envs/pytorch/lib/python3.9/site-packages/torchvision/transforms/transforms.py:332: UserWarning: Argument interpolation should be of type InterpolationMode instead of int. Please, use InterpolationMode enum.\n",
      "  warnings.warn(\n"
     ]
    }
   ],
   "source": [
    "_size = 256, 256\n",
    "resize = transforms.Resize(_size, interpolation=0)\n",
    "\n",
    "# set your transforms \n",
    "train_transforms = transforms.Compose([\n",
    "                           transforms.Resize(_size, interpolation=0),\n",
    "                           transforms.RandomRotation(180),\n",
    "                           transforms.RandomHorizontalFlip(0.5),\n",
    "                           transforms.RandomCrop(_size, padding = 10), # needed after rotation (with original size)\n",
    "                       ])\n",
    "\n",
    "test_transforms = transforms.Compose([\n",
    "                           transforms.Resize(_size, interpolation=0),\n",
    "                       ])"
   ]
  },
  {
   "cell_type": "markdown",
   "metadata": {
    "id": "g-idQzI2_6LM"
   },
   "source": [
    "# 2. 데이터셋 클래스 생성\n",
    "> 해당 클래스는 이용하려는 이미지와 라벨의 모든 경로(/data/segmentation/...)의 리스트를 인자로 받는다.   "
   ]
  },
  {
   "cell_type": "code",
   "execution_count": 6,
   "metadata": {},
   "outputs": [
    {
     "name": "stdout",
     "output_type": "stream",
     "text": [
      "My custom training-dataset has 800 elements\n",
      "My custom valing-dataset has 200 elements\n"
     ]
    }
   ],
   "source": [
    "train_images = glob.glob('/data/segmentation/Kvasir-SEG/trainset/images/*')\n",
    "train_labels = glob.glob('/data/segmentation/Kvasir-SEG/trainset/labels/*')\n",
    "train_images = [img for img in train_images if img.find('jpg')!= -1] # super pixels 이미지 제외\n",
    "\n",
    "valid_images = glob.glob('/data/segmentation/Kvasir-SEG/validationset/images/*')\n",
    "valid_labels = glob.glob('/data/segmentation/Kvasir-SEG/validationset/labels/*')\n",
    "valid_images = [img for img in valid_images if img.find('jpg')!= -1] # super pixels 이미지 제외\n",
    "\n",
    "\n",
    "train_images = sorted(train_images)\n",
    "train_labels = sorted(train_labels)\n",
    "\n",
    "valid_images = sorted(valid_images)\n",
    "valid_labels = sorted(valid_labels)\n",
    "\n",
    "\n",
    "custom_dataset_train = myDataSet(train_images, train_labels, transforms=test_transforms)\n",
    "print(\"My custom training-dataset has {} elements\".format(len(custom_dataset_train)))\n",
    "\n",
    "\n",
    "custom_dataset_val = myDataSet(valid_images, valid_labels, transforms=test_transforms)\n",
    "print(\"My custom valing-dataset has {} elements\".format(len(custom_dataset_val)))\n",
    "\n",
    "# train_images = sorted(train_images)\n",
    "# train_labels = sorted(train_labels)\n",
    "# for x,y in zip(train_images, train_labels):\n",
    "#     x = x.split('/')[-1].split('.jpg')[0]\n",
    "#     y = y.split('/')[-1].split('_seg')[0]\n",
    "#     if x != y:\n",
    "#         print('다릅니다', x, y)\n",
    "        \n",
    "# valid_images = sorted(valid_images)\n",
    "# valid_labels = sorted(valid_labels)\n",
    "# for x,y in zip(train_images, train_labels):\n",
    "#     x = x.split('/')[-1].split('.jpg')[0]\n",
    "#     y = y.split('/')[-1].split('_seg')[0]\n",
    "#     if x != y:\n",
    "#         print('다릅니다', x, y)"
   ]
  },
  {
   "cell_type": "markdown",
   "metadata": {},
   "source": [
    "### dataset class check\n",
    "> RGB 채널 평균 값이라 색 바뀜"
   ]
  },
  {
   "cell_type": "code",
   "execution_count": 7,
   "metadata": {
    "executionInfo": {
     "elapsed": 12,
     "status": "aborted",
     "timestamp": 1663841626892,
     "user": {
      "displayName": "김동현",
      "userId": "12784596420296644443"
     },
     "user_tz": -540
    },
    "id": "GIUSSxLR_6LO"
   },
   "outputs": [
    {
     "data": {
      "image/png": "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